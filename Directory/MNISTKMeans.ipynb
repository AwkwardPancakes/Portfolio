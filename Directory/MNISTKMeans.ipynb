{
 "cells": [
  {
   "cell_type": "code",
   "execution_count": 1,
   "id": "3d75cbf9",
   "metadata": {},
   "outputs": [],
   "source": [
    "import pandas as pd\n",
    "import numpy as np\n",
    "import mnist\n",
    "import scipy.misc\n",
    "from sklearn.cluster import KMeans\n",
    "from sklearn.model_selection import KFold\n",
    "\n",
    "# imports the mnist data and assigns it\n",
    "train_images = mnist.train_images()\n",
    "train_labels = mnist.train_labels()\n",
    "\n",
    "test_images = mnist.test_images()\n",
    "test_labels = mnist.test_labels()\n",
    "\n",
    "# Concatenates the images and labels in preparation for k-folds application.\n",
    "# Although we were given a training and testing set, we combined the testing and training sets into a single set of images \n",
    "# so we can aply K-folds to the entire dataset\n",
    "images = np.concatenate((train_images, test_images))\n",
    "labels = np.concatenate((train_labels, test_labels))\n",
    "\n",
    "# Flattening out the \"images\" array by concatenating the rows of the actual \n",
    "# image array to be accesible to k-means \n",
    "images = images.reshape(len(images), -1)\n",
    "\n",
    "# normalizing the dataset\n",
    "images = images/ 255\n",
    "\n",
    "# Defining the amount of folds as 5. This is our method of cross-validation\n",
    "kfold = KFold(5)\n",
    "\n",
    "# Define X clusters\n",
    "clust_num = 10\n",
    "# Defining how many clusters for k-means algorithm\n",
    "kmeans = KMeans(clust_num)\n",
    "# Defining our list to keep track of what the clusters are predicted as\n",
    "ref_dict = dict()\n",
    "# Keeping track of the average error of each model for a graph that finds\n",
    "# The optimal K later\n",
    "error_amount = list([])"
   ]
  },
  {
   "cell_type": "code",
   "execution_count": 2,
   "id": "ea8869f3",
   "metadata": {},
   "outputs": [
    {
     "name": "stderr",
     "output_type": "stream",
     "text": [
      "C:\\Users\\elija\\anaconda3\\Lib\\site-packages\\sklearn\\cluster\\_kmeans.py:1412: FutureWarning: The default value of `n_init` will change from 10 to 'auto' in 1.4. Set the value of `n_init` explicitly to suppress the warning\n",
      "  super()._check_params_vs_input(X, default_n_init=10)\n",
      "C:\\Users\\elija\\anaconda3\\Lib\\site-packages\\sklearn\\cluster\\_kmeans.py:1412: FutureWarning: The default value of `n_init` will change from 10 to 'auto' in 1.4. Set the value of `n_init` explicitly to suppress the warning\n",
      "  super()._check_params_vs_input(X, default_n_init=10)\n",
      "C:\\Users\\elija\\anaconda3\\Lib\\site-packages\\sklearn\\cluster\\_kmeans.py:1412: FutureWarning: The default value of `n_init` will change from 10 to 'auto' in 1.4. Set the value of `n_init` explicitly to suppress the warning\n",
      "  super()._check_params_vs_input(X, default_n_init=10)\n",
      "C:\\Users\\elija\\anaconda3\\Lib\\site-packages\\sklearn\\cluster\\_kmeans.py:1412: FutureWarning: The default value of `n_init` will change from 10 to 'auto' in 1.4. Set the value of `n_init` explicitly to suppress the warning\n",
      "  super()._check_params_vs_input(X, default_n_init=10)\n",
      "C:\\Users\\elija\\anaconda3\\Lib\\site-packages\\sklearn\\cluster\\_kmeans.py:1412: FutureWarning: The default value of `n_init` will change from 10 to 'auto' in 1.4. Set the value of `n_init` explicitly to suppress the warning\n",
      "  super()._check_params_vs_input(X, default_n_init=10)\n"
     ]
    },
    {
     "name": "stdout",
     "output_type": "stream",
     "text": [
      "CPU times: total: 14min 52s\n",
      "Wall time: 3min 41s\n"
     ]
    }
   ],
   "source": [
    "%%time\n",
    "# Amount of time taken\n",
    "\n",
    "clust_num = 10\n",
    "ref_dict = dict()\n",
    "error_temp = list([])\n",
    "\n",
    "#Defining a list which will hold the models that have 10 clusters\n",
    "model_clust10_list = list([])\n",
    "\n",
    "#For loop looping through each k-fold (each with a unique training set and testing set)\n",
    "for i, (train_index, test_index) in enumerate(kfold.split(images)):\n",
    "    #Creating our ith model\n",
    "    temp_model = KMeans(clust_num)\n",
    "    # Fitting and transforming based off of the unique train set\n",
    "    temp_model.fit_transform(images[train_index])\n",
    "    #Looping through each cluster in the K-means model and finding the label of the image most associated with that cluster\n",
    "    for cluster in range(clust_num):\n",
    "        #Creating temporary array\n",
    "        temp_list = list([])\n",
    "        #Looping through the training images in each custer and labeling the clusters based on the majority image labels\n",
    "        for j, (label_index) in enumerate(train_index):\n",
    "            # If the custer label found is the same as the cluster label given to the image then append that image's label \n",
    "            # to the temporarylist\n",
    "            if temp_model.labels_[j] == cluster:\n",
    "                temp_list.append(labels[label_index])\n",
    "        #Creating a dictionary with key value pairs asociated with each cluster's most found image label\n",
    "        ref_dict[cluster] = pd.Series(temp_list).value_counts().index[0]\n",
    "    #Make predictions based on the test set\n",
    "    predictions = temp_model.predict(images[test_index])\n",
    "    #Defining A list to contain the true labels\n",
    "    true_predictions = list([])\n",
    "    correct = 0\n",
    "    #Looping through the predictions, finding the true labels, and then determining if the label predicted is correct\n",
    "    for i, (prediction) in enumerate(predictions):\n",
    "        #Set predicted label to most found label in predicted cluster\n",
    "        predicted_label = ref_dict[prediction]\n",
    "        #Asigning the true label\n",
    "        true_label = labels[test_index[i]]\n",
    "        # Determine if correct\n",
    "        if true_label == predicted_label:\n",
    "            correct = correct + 1\n",
    "    #Appending the model created to our list for later reference\n",
    "    model_clust10_list.append(temp_model)\n",
    "    # Finding and keeping the error of each K-fold model\n",
    "    error_temp.append(1 - (correct/len(predictions)))\n",
    "#Find and append the average error of the 10-cluster models\n",
    "error_amount.append(sum(error_temp)/5)"
   ]
  },
  {
   "cell_type": "code",
   "execution_count": 3,
   "id": "15b9cb2d",
   "metadata": {},
   "outputs": [
    {
     "name": "stderr",
     "output_type": "stream",
     "text": [
      "C:\\Users\\elija\\anaconda3\\Lib\\site-packages\\sklearn\\cluster\\_kmeans.py:1412: FutureWarning: The default value of `n_init` will change from 10 to 'auto' in 1.4. Set the value of `n_init` explicitly to suppress the warning\n",
      "  super()._check_params_vs_input(X, default_n_init=10)\n",
      "C:\\Users\\elija\\anaconda3\\Lib\\site-packages\\sklearn\\cluster\\_kmeans.py:1412: FutureWarning: The default value of `n_init` will change from 10 to 'auto' in 1.4. Set the value of `n_init` explicitly to suppress the warning\n",
      "  super()._check_params_vs_input(X, default_n_init=10)\n",
      "C:\\Users\\elija\\anaconda3\\Lib\\site-packages\\sklearn\\cluster\\_kmeans.py:1412: FutureWarning: The default value of `n_init` will change from 10 to 'auto' in 1.4. Set the value of `n_init` explicitly to suppress the warning\n",
      "  super()._check_params_vs_input(X, default_n_init=10)\n",
      "C:\\Users\\elija\\anaconda3\\Lib\\site-packages\\sklearn\\cluster\\_kmeans.py:1412: FutureWarning: The default value of `n_init` will change from 10 to 'auto' in 1.4. Set the value of `n_init` explicitly to suppress the warning\n",
      "  super()._check_params_vs_input(X, default_n_init=10)\n",
      "C:\\Users\\elija\\anaconda3\\Lib\\site-packages\\sklearn\\cluster\\_kmeans.py:1412: FutureWarning: The default value of `n_init` will change from 10 to 'auto' in 1.4. Set the value of `n_init` explicitly to suppress the warning\n",
      "  super()._check_params_vs_input(X, default_n_init=10)\n"
     ]
    },
    {
     "name": "stdout",
     "output_type": "stream",
     "text": [
      "CPU times: total: 20min 23s\n",
      "Wall time: 5min 3s\n"
     ]
    }
   ],
   "source": [
    "%%time\n",
    "\n",
    "clust_num = 20\n",
    "ref_dict = dict()\n",
    "error_temp = list([])\n",
    "\n",
    "model_clust20_list = list([])\n",
    "for i, (train_index, test_index) in enumerate(kfold.split(images)):\n",
    "    temp_model = KMeans(clust_num)\n",
    "    temp_model.fit_transform(images[train_index])\n",
    "    for cluster in range(clust_num):\n",
    "        temp_list = list([])\n",
    "        for j, (label_index) in enumerate(train_index):\n",
    "            if temp_model.labels_[j] == cluster:\n",
    "                temp_list.append(labels[label_index])\n",
    "        ref_dict[cluster] = pd.Series(temp_list).value_counts().index[0]\n",
    "    predictions = temp_model.predict(images[test_index])\n",
    "    true_predictions = list([])\n",
    "    correct = 0\n",
    "    for i, (prediction) in enumerate(predictions):\n",
    "        predicted_label = ref_dict[prediction]\n",
    "        true_label = labels[test_index[i]]\n",
    "        if true_label == predicted_label:\n",
    "            correct = correct + 1\n",
    "    model_clust20_list.append(temp_model)\n",
    "    error_temp.append(1 - (correct/len(predictions)))\n",
    "error_amount.append(sum(error_temp)/5)"
   ]
  },
  {
   "cell_type": "code",
   "execution_count": 4,
   "id": "ee06ca6f",
   "metadata": {
    "scrolled": true
   },
   "outputs": [
    {
     "name": "stderr",
     "output_type": "stream",
     "text": [
      "C:\\Users\\elija\\anaconda3\\Lib\\site-packages\\sklearn\\cluster\\_kmeans.py:1412: FutureWarning: The default value of `n_init` will change from 10 to 'auto' in 1.4. Set the value of `n_init` explicitly to suppress the warning\n",
      "  super()._check_params_vs_input(X, default_n_init=10)\n",
      "C:\\Users\\elija\\anaconda3\\Lib\\site-packages\\sklearn\\cluster\\_kmeans.py:1412: FutureWarning: The default value of `n_init` will change from 10 to 'auto' in 1.4. Set the value of `n_init` explicitly to suppress the warning\n",
      "  super()._check_params_vs_input(X, default_n_init=10)\n",
      "C:\\Users\\elija\\anaconda3\\Lib\\site-packages\\sklearn\\cluster\\_kmeans.py:1412: FutureWarning: The default value of `n_init` will change from 10 to 'auto' in 1.4. Set the value of `n_init` explicitly to suppress the warning\n",
      "  super()._check_params_vs_input(X, default_n_init=10)\n",
      "C:\\Users\\elija\\anaconda3\\Lib\\site-packages\\sklearn\\cluster\\_kmeans.py:1412: FutureWarning: The default value of `n_init` will change from 10 to 'auto' in 1.4. Set the value of `n_init` explicitly to suppress the warning\n",
      "  super()._check_params_vs_input(X, default_n_init=10)\n",
      "C:\\Users\\elija\\anaconda3\\Lib\\site-packages\\sklearn\\cluster\\_kmeans.py:1412: FutureWarning: The default value of `n_init` will change from 10 to 'auto' in 1.4. Set the value of `n_init` explicitly to suppress the warning\n",
      "  super()._check_params_vs_input(X, default_n_init=10)\n"
     ]
    },
    {
     "name": "stdout",
     "output_type": "stream",
     "text": [
      "CPU times: total: 35min 30s\n",
      "Wall time: 8min 54s\n"
     ]
    }
   ],
   "source": [
    "%%time\n",
    "\n",
    "clust_num = 40\n",
    "ref_dict = dict()\n",
    "error_temp = list([])\n",
    "\n",
    "model_clust40_list = list([])\n",
    "for i, (train_index, test_index) in enumerate(kfold.split(images)):\n",
    "    temp_model = KMeans(clust_num)\n",
    "    temp_model.fit_transform(images[train_index])\n",
    "    for cluster in range(clust_num):\n",
    "        temp_list = list([])\n",
    "        for j, (label_index) in enumerate(train_index):\n",
    "            if temp_model.labels_[j] == cluster:\n",
    "                temp_list.append(labels[label_index])\n",
    "        ref_dict[cluster] = pd.Series(temp_list).value_counts().index[0]\n",
    "    predictions = temp_model.predict(images[test_index])\n",
    "    true_predictions = list([])\n",
    "    correct = 0\n",
    "    for i, (prediction) in enumerate(predictions):\n",
    "        predicted_label = ref_dict[prediction]\n",
    "        true_label = labels[test_index[i]]\n",
    "        if true_label == predicted_label:\n",
    "            correct = correct + 1\n",
    "    model_clust40_list.append(temp_model)\n",
    "    error_temp.append(1 - (correct/len(predictions)))\n",
    "error_amount.append(sum(error_temp)/5)"
   ]
  },
  {
   "cell_type": "code",
   "execution_count": 5,
   "id": "a238de97",
   "metadata": {},
   "outputs": [
    {
     "name": "stderr",
     "output_type": "stream",
     "text": [
      "C:\\Users\\elija\\anaconda3\\Lib\\site-packages\\sklearn\\cluster\\_kmeans.py:1412: FutureWarning: The default value of `n_init` will change from 10 to 'auto' in 1.4. Set the value of `n_init` explicitly to suppress the warning\n",
      "  super()._check_params_vs_input(X, default_n_init=10)\n",
      "C:\\Users\\elija\\anaconda3\\Lib\\site-packages\\sklearn\\cluster\\_kmeans.py:1412: FutureWarning: The default value of `n_init` will change from 10 to 'auto' in 1.4. Set the value of `n_init` explicitly to suppress the warning\n",
      "  super()._check_params_vs_input(X, default_n_init=10)\n",
      "C:\\Users\\elija\\anaconda3\\Lib\\site-packages\\sklearn\\cluster\\_kmeans.py:1412: FutureWarning: The default value of `n_init` will change from 10 to 'auto' in 1.4. Set the value of `n_init` explicitly to suppress the warning\n",
      "  super()._check_params_vs_input(X, default_n_init=10)\n",
      "C:\\Users\\elija\\anaconda3\\Lib\\site-packages\\sklearn\\cluster\\_kmeans.py:1412: FutureWarning: The default value of `n_init` will change from 10 to 'auto' in 1.4. Set the value of `n_init` explicitly to suppress the warning\n",
      "  super()._check_params_vs_input(X, default_n_init=10)\n",
      "C:\\Users\\elija\\anaconda3\\Lib\\site-packages\\sklearn\\cluster\\_kmeans.py:1412: FutureWarning: The default value of `n_init` will change from 10 to 'auto' in 1.4. Set the value of `n_init` explicitly to suppress the warning\n",
      "  super()._check_params_vs_input(X, default_n_init=10)\n"
     ]
    },
    {
     "name": "stdout",
     "output_type": "stream",
     "text": [
      "CPU times: total: 59min 30s\n",
      "Wall time: 15min\n"
     ]
    }
   ],
   "source": [
    "%%time\n",
    "\n",
    "clust_num = 80\n",
    "ref_dict = dict()\n",
    "error_temp = list([])\n",
    "\n",
    "model_clust80_list = list([])\n",
    "for i, (train_index, test_index) in enumerate(kfold.split(images)):\n",
    "    temp_model = KMeans(clust_num)\n",
    "    temp_model.fit_transform(images[train_index])\n",
    "    for cluster in range(clust_num):\n",
    "        temp_list = list([])\n",
    "        for j, (label_index) in enumerate(train_index):\n",
    "            if temp_model.labels_[j] == cluster:\n",
    "                temp_list.append(labels[label_index])\n",
    "        ref_dict[cluster] = pd.Series(temp_list).value_counts().index[0]\n",
    "    predictions = temp_model.predict(images[test_index])\n",
    "    true_predictions = list([])\n",
    "    correct = 0\n",
    "    for i, (prediction) in enumerate(predictions):\n",
    "        predicted_label = ref_dict[prediction]\n",
    "        true_label = labels[test_index[i]]\n",
    "        if true_label == predicted_label:\n",
    "            correct = correct + 1\n",
    "    model_clust80_list.append(temp_model)\n",
    "    error_temp.append(1 - (correct/len(predictions)))\n",
    "error_amount.append(sum(error_temp)/5)"
   ]
  },
  {
   "cell_type": "code",
   "execution_count": 6,
   "id": "59fa759f",
   "metadata": {},
   "outputs": [
    {
     "name": "stderr",
     "output_type": "stream",
     "text": [
      "C:\\Users\\elija\\anaconda3\\Lib\\site-packages\\sklearn\\cluster\\_kmeans.py:1412: FutureWarning: The default value of `n_init` will change from 10 to 'auto' in 1.4. Set the value of `n_init` explicitly to suppress the warning\n",
      "  super()._check_params_vs_input(X, default_n_init=10)\n",
      "C:\\Users\\elija\\anaconda3\\Lib\\site-packages\\sklearn\\cluster\\_kmeans.py:1412: FutureWarning: The default value of `n_init` will change from 10 to 'auto' in 1.4. Set the value of `n_init` explicitly to suppress the warning\n",
      "  super()._check_params_vs_input(X, default_n_init=10)\n",
      "C:\\Users\\elija\\anaconda3\\Lib\\site-packages\\sklearn\\cluster\\_kmeans.py:1412: FutureWarning: The default value of `n_init` will change from 10 to 'auto' in 1.4. Set the value of `n_init` explicitly to suppress the warning\n",
      "  super()._check_params_vs_input(X, default_n_init=10)\n",
      "C:\\Users\\elija\\anaconda3\\Lib\\site-packages\\sklearn\\cluster\\_kmeans.py:1412: FutureWarning: The default value of `n_init` will change from 10 to 'auto' in 1.4. Set the value of `n_init` explicitly to suppress the warning\n",
      "  super()._check_params_vs_input(X, default_n_init=10)\n",
      "C:\\Users\\elija\\anaconda3\\Lib\\site-packages\\sklearn\\cluster\\_kmeans.py:1412: FutureWarning: The default value of `n_init` will change from 10 to 'auto' in 1.4. Set the value of `n_init` explicitly to suppress the warning\n",
      "  super()._check_params_vs_input(X, default_n_init=10)\n"
     ]
    },
    {
     "name": "stdout",
     "output_type": "stream",
     "text": [
      "CPU times: total: 1h 34min 56s\n",
      "Wall time: 24min\n"
     ]
    }
   ],
   "source": [
    "%%time\n",
    "\n",
    "clust_num = 160\n",
    "ref_dict = dict()\n",
    "error_temp = list([])\n",
    "\n",
    "model_clust160_list = list([])\n",
    "for i, (train_index, test_index) in enumerate(kfold.split(images)):\n",
    "    temp_model = KMeans(clust_num)\n",
    "    temp_model.fit_transform(images[train_index])\n",
    "    for cluster in range(clust_num):\n",
    "        temp_list = list([])\n",
    "        for j, (label_index) in enumerate(train_index):\n",
    "            if temp_model.labels_[j] == cluster:\n",
    "                temp_list.append(labels[label_index])\n",
    "        ref_dict[cluster] = pd.Series(temp_list).value_counts().index[0]\n",
    "    predictions = temp_model.predict(images[test_index])\n",
    "    true_predictions = list([])\n",
    "    correct = 0\n",
    "    for i, (prediction) in enumerate(predictions):\n",
    "        predicted_label = ref_dict[prediction]\n",
    "        true_label = labels[test_index[i]]\n",
    "        if true_label == predicted_label:\n",
    "            correct = correct + 1\n",
    "    model_clust160_list.append(temp_model)\n",
    "    error_temp.append(1 - (correct/len(predictions)))\n",
    "error_amount.append(sum(error_temp)/5)"
   ]
  },
  {
   "cell_type": "code",
   "execution_count": 7,
   "id": "3db8a892",
   "metadata": {},
   "outputs": [
    {
     "data": {
      "image/png": "[encoded data removed]",
      "text/plain": [
       "<Figure size 640x480 with 1 Axes>"
      ]
     },
     "metadata": {},
     "output_type": "display_data"
    }
   ],
   "source": [
    "import matplotlib.pyplot as plt\n",
    "\n",
    "cluster_number_array = [10, 20, 40, 80, 160]\n",
    "plt.plot(cluster_number_array, error_amount)\n",
    "plt.show()"
   ]
  },
  {
   "cell_type": "code",
   "execution_count": 8,
   "id": "c0e81529",
   "metadata": {},
   "outputs": [
    {
     "name": "stdout",
     "output_type": "stream",
     "text": [
      "0.5794285714285714\n",
      "0.5845714285714285\n",
      "0.5781428571428572\n",
      "0.5822142857142857\n",
      "0.5900714285714286\n"
     ]
    }
   ],
   "source": [
    "#Code to identify the predictive accuracy of the 5 models\n",
    "for i, (train_index, test_index) in enumerate(kfold.split(images)):\n",
    "    temp_model = model_clust10_list[i]\n",
    "    #Once more creating reference dictionary for testing\n",
    "    for cluster in range(clust_num):\n",
    "        temp_list = list([])\n",
    "        for j, (label_index) in enumerate(train_index):\n",
    "            if temp_model.labels_[j] == cluster:\n",
    "                temp_list.append(labels[label_index])\n",
    "        if len(temp_list) > 0:\n",
    "            ref_dict[cluster] = pd.Series(temp_list).value_counts().index[0]\n",
    "    predictions = temp_model.predict(images[test_index])\n",
    "    true_predictions = list([])\n",
    "    correct = 0\n",
    "    #Calculating test accurracy\n",
    "    for i, (prediction) in enumerate(predictions):\n",
    "        predicted_label = ref_dict[prediction]\n",
    "        true_label = labels[test_index[i]]\n",
    "        if true_label == predicted_label:\n",
    "            correct = correct + 1\n",
    "    print((correct/len(predictions)))\n"
   ]
  },
  {
   "cell_type": "code",
   "execution_count": 9,
   "id": "46bb3723",
   "metadata": {},
   "outputs": [
    {
     "name": "stdout",
     "output_type": "stream",
     "text": [
      "0.7340714285714286\n",
      "0.7071428571428572\n",
      "0.7069285714285715\n",
      "0.7053571428571429\n",
      "0.72\n"
     ]
    }
   ],
   "source": [
    "for i, (train_index, test_index) in enumerate(kfold.split(images)):\n",
    "    temp_model = model_clust20_list[i]\n",
    "    for cluster in range(clust_num):\n",
    "        temp_list = list([])\n",
    "        for j, (label_index) in enumerate(train_index):\n",
    "            if temp_model.labels_[j] == cluster:\n",
    "                temp_list.append(labels[label_index])\n",
    "        if len(temp_list) > 0:\n",
    "            ref_dict[cluster] = pd.Series(temp_list).value_counts().index[0]\n",
    "    predictions = temp_model.predict(images[test_index])\n",
    "    true_predictions = list([])\n",
    "    correct = 0\n",
    "    for i, (prediction) in enumerate(predictions):\n",
    "        predicted_label = ref_dict[prediction]\n",
    "        true_label = labels[test_index[i]]\n",
    "        if true_label == predicted_label:\n",
    "            correct = correct + 1\n",
    "    print((correct/len(predictions)))"
   ]
  },
  {
   "cell_type": "code",
   "execution_count": 10,
   "id": "acd798e5",
   "metadata": {},
   "outputs": [
    {
     "name": "stdout",
     "output_type": "stream",
     "text": [
      "0.7806428571428572\n",
      "0.7718571428571429\n",
      "0.7716428571428572\n",
      "0.7974285714285714\n",
      "0.816\n"
     ]
    }
   ],
   "source": [
    "for i, (train_index, test_index) in enumerate(kfold.split(images)):\n",
    "    temp_model = model_clust40_list[i]\n",
    "    for cluster in range(clust_num):\n",
    "        temp_list = list([])\n",
    "        for j, (label_index) in enumerate(train_index):\n",
    "            if temp_model.labels_[j] == cluster:\n",
    "                temp_list.append(labels[label_index])\n",
    "        if len(temp_list) > 0:\n",
    "            ref_dict[cluster] = pd.Series(temp_list).value_counts().index[0]\n",
    "    predictions = temp_model.predict(images[test_index])\n",
    "    true_predictions = list([])\n",
    "    correct = 0\n",
    "    for i, (prediction) in enumerate(predictions):\n",
    "        predicted_label = ref_dict[prediction]\n",
    "        true_label = labels[test_index[i]]\n",
    "        if true_label == predicted_label:\n",
    "            correct = correct + 1\n",
    "    print((correct/len(predictions)))"
   ]
  },
  {
   "cell_type": "code",
   "execution_count": 11,
   "id": "6f4d8d98",
   "metadata": {},
   "outputs": [
    {
     "name": "stdout",
     "output_type": "stream",
     "text": [
      "0.8596428571428572\n",
      "0.8575\n",
      "0.8446428571428571\n",
      "0.8457857142857143\n",
      "0.8646428571428572\n"
     ]
    }
   ],
   "source": [
    "for i, (train_index, test_index) in enumerate(kfold.split(images)):\n",
    "    temp_model = model_clust80_list[i]\n",
    "    for cluster in range(clust_num):\n",
    "        temp_list = list([])\n",
    "        for j, (label_index) in enumerate(train_index):\n",
    "            if temp_model.labels_[j] == cluster:\n",
    "                temp_list.append(labels[label_index])\n",
    "        if len(temp_list) > 0:\n",
    "            ref_dict[cluster] = pd.Series(temp_list).value_counts().index[0]\n",
    "    predictions = temp_model.predict(images[test_index])\n",
    "    true_predictions = list([])\n",
    "    correct = 0\n",
    "    for i, (prediction) in enumerate(predictions):\n",
    "        predicted_label = ref_dict[prediction]\n",
    "        true_label = labels[test_index[i]]\n",
    "        if true_label == predicted_label:\n",
    "            correct = correct + 1\n",
    "    print((correct/len(predictions)))"
   ]
  },
  {
   "cell_type": "code",
   "execution_count": 12,
   "id": "2b032a23",
   "metadata": {},
   "outputs": [
    {
     "name": "stdout",
     "output_type": "stream",
     "text": [
      "0.9008571428571429\n",
      "0.8867857142857143\n",
      "0.8938571428571429\n",
      "0.8913571428571428\n",
      "0.9035714285714286\n"
     ]
    }
   ],
   "source": [
    "for i, (train_index, test_index) in enumerate(kfold.split(images)):\n",
    "    temp_model = model_clust160_list[i]\n",
    "    for cluster in range(clust_num):\n",
    "        temp_list = list([])\n",
    "        for j, (label_index) in enumerate(train_index):\n",
    "            if temp_model.labels_[j] == cluster:\n",
    "                temp_list.append(labels[label_index])\n",
    "        if len(temp_list) > 0:\n",
    "            ref_dict[cluster] = pd.Series(temp_list).value_counts().index[0]\n",
    "    predictions = temp_model.predict(images[test_index])\n",
    "    true_predictions = list([])\n",
    "    correct = 0\n",
    "    for i, (prediction) in enumerate(predictions):\n",
    "        predicted_label = ref_dict[prediction]\n",
    "        true_label = labels[test_index[i]]\n",
    "        if true_label == predicted_label:\n",
    "            correct = correct + 1\n",
    "    print((correct/len(predictions)))"
   ]
  },
  {
   "cell_type": "code",
   "execution_count": null,
   "id": "a8c2f2c9",
   "metadata": {},
   "outputs": [],
   "source": []
  }
 ],
 "metadata": {
  "kernelspec": {
   "display_name": "Python 3 (ipykernel)",
   "language": "python",
   "name": "python3"
  },
  "language_info": {
   "codemirror_mode": {
    "name": "ipython",
    "version": 3
   },
   "file_extension": ".py",
   "mimetype": "text/x-python",
   "name": "python",
   "nbconvert_exporter": "python",
   "pygments_lexer": "ipython3",
   "version": "3.11.4"
  }
 },
 "nbformat": 4,
 "nbformat_minor": 5
}
